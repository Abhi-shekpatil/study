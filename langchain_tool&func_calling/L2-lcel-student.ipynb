{
 "cells": [
  {
   "cell_type": "markdown",
   "id": "fc925562",
   "metadata": {},
   "source": [
    "# LangChain Expression Language (LCEL)"
   ]
  },
  {
   "cell_type": "code",
   "execution_count": 1,
   "id": "044db1b7-c18c-45d2-be7a-29f027c901e2",
   "metadata": {
    "height": 130,
    "tags": []
   },
   "outputs": [],
   "source": [
    "import os\n",
    "import openai\n",
    "\n",
    "from dotenv import load_dotenv, find_dotenv\n",
    "_ = load_dotenv(find_dotenv()) # read local .env file\n",
    "openai.api_key = os.environ['OPENAI_API_KEY']"
   ]
  },
  {
   "cell_type": "code",
   "execution_count": 2,
   "id": "2de9d2bd-18de-44d5-81ac-5918e2106367",
   "metadata": {
    "height": 30
   },
   "outputs": [
    {
     "name": "stdout",
     "output_type": "stream",
     "text": [
      "Requirement already satisfied: langchain in c:\\users\\patil\\anaconda3\\envs\\genai\\lib\\site-packages (0.3.25)\n",
      "Requirement already satisfied: langchain-core<1.0.0,>=0.3.58 in c:\\users\\patil\\anaconda3\\envs\\genai\\lib\\site-packages (from langchain) (0.3.64)\n",
      "Requirement already satisfied: langchain-text-splitters<1.0.0,>=0.3.8 in c:\\users\\patil\\anaconda3\\envs\\genai\\lib\\site-packages (from langchain) (0.3.8)\n",
      "Requirement already satisfied: langsmith<0.4,>=0.1.17 in c:\\users\\patil\\anaconda3\\envs\\genai\\lib\\site-packages (from langchain) (0.3.45)\n",
      "Requirement already satisfied: pydantic<3.0.0,>=2.7.4 in c:\\users\\patil\\anaconda3\\envs\\genai\\lib\\site-packages (from langchain) (2.7.4)\n",
      "Requirement already satisfied: SQLAlchemy<3,>=1.4 in c:\\users\\patil\\anaconda3\\envs\\genai\\lib\\site-packages (from langchain) (2.0.41)\n",
      "Requirement already satisfied: requests<3,>=2 in c:\\users\\patil\\anaconda3\\envs\\genai\\lib\\site-packages (from langchain) (2.32.3)\n",
      "Requirement already satisfied: PyYAML>=5.3 in c:\\users\\patil\\anaconda3\\envs\\genai\\lib\\site-packages (from langchain) (6.0.2)\n",
      "Requirement already satisfied: tenacity!=8.4.0,<10.0.0,>=8.1.0 in c:\\users\\patil\\anaconda3\\envs\\genai\\lib\\site-packages (from langchain-core<1.0.0,>=0.3.58->langchain) (8.5.0)\n",
      "Requirement already satisfied: jsonpatch<2.0,>=1.33 in c:\\users\\patil\\anaconda3\\envs\\genai\\lib\\site-packages (from langchain-core<1.0.0,>=0.3.58->langchain) (1.33)\n",
      "Requirement already satisfied: packaging<25,>=23.2 in c:\\users\\patil\\anaconda3\\envs\\genai\\lib\\site-packages (from langchain-core<1.0.0,>=0.3.58->langchain) (24.2)\n",
      "Requirement already satisfied: typing-extensions>=4.7 in c:\\users\\patil\\anaconda3\\envs\\genai\\lib\\site-packages (from langchain-core<1.0.0,>=0.3.58->langchain) (4.12.2)\n",
      "Requirement already satisfied: jsonpointer>=1.9 in c:\\users\\patil\\anaconda3\\envs\\genai\\lib\\site-packages (from jsonpatch<2.0,>=1.33->langchain-core<1.0.0,>=0.3.58->langchain) (3.0.0)\n",
      "Requirement already satisfied: httpx<1,>=0.23.0 in c:\\users\\patil\\anaconda3\\envs\\genai\\lib\\site-packages (from langsmith<0.4,>=0.1.17->langchain) (0.28.1)\n",
      "Requirement already satisfied: orjson<4.0.0,>=3.9.14 in c:\\users\\patil\\anaconda3\\envs\\genai\\lib\\site-packages (from langsmith<0.4,>=0.1.17->langchain) (3.10.18)\n",
      "Requirement already satisfied: requests-toolbelt<2.0.0,>=1.0.0 in c:\\users\\patil\\anaconda3\\envs\\genai\\lib\\site-packages (from langsmith<0.4,>=0.1.17->langchain) (1.0.0)\n",
      "Requirement already satisfied: zstandard<0.24.0,>=0.23.0 in c:\\users\\patil\\anaconda3\\envs\\genai\\lib\\site-packages (from langsmith<0.4,>=0.1.17->langchain) (0.23.0)\n",
      "Requirement already satisfied: anyio in c:\\users\\patil\\anaconda3\\envs\\genai\\lib\\site-packages (from httpx<1,>=0.23.0->langsmith<0.4,>=0.1.17->langchain) (3.7.1)\n",
      "Requirement already satisfied: certifi in c:\\users\\patil\\anaconda3\\envs\\genai\\lib\\site-packages (from httpx<1,>=0.23.0->langsmith<0.4,>=0.1.17->langchain) (2025.4.26)\n",
      "Requirement already satisfied: httpcore==1.* in c:\\users\\patil\\anaconda3\\envs\\genai\\lib\\site-packages (from httpx<1,>=0.23.0->langsmith<0.4,>=0.1.17->langchain) (1.0.2)\n",
      "Requirement already satisfied: idna in c:\\users\\patil\\anaconda3\\envs\\genai\\lib\\site-packages (from httpx<1,>=0.23.0->langsmith<0.4,>=0.1.17->langchain) (3.7)\n",
      "Requirement already satisfied: h11<0.15,>=0.13 in c:\\users\\patil\\anaconda3\\envs\\genai\\lib\\site-packages (from httpcore==1.*->httpx<1,>=0.23.0->langsmith<0.4,>=0.1.17->langchain) (0.14.0)\n",
      "Requirement already satisfied: annotated-types>=0.4.0 in c:\\users\\patil\\anaconda3\\envs\\genai\\lib\\site-packages (from pydantic<3.0.0,>=2.7.4->langchain) (0.7.0)\n",
      "Requirement already satisfied: pydantic-core==2.18.4 in c:\\users\\patil\\anaconda3\\envs\\genai\\lib\\site-packages (from pydantic<3.0.0,>=2.7.4->langchain) (2.18.4)\n",
      "Requirement already satisfied: charset-normalizer<4,>=2 in c:\\users\\patil\\anaconda3\\envs\\genai\\lib\\site-packages (from requests<3,>=2->langchain) (3.3.2)\n",
      "Requirement already satisfied: urllib3<3,>=1.21.1 in c:\\users\\patil\\anaconda3\\envs\\genai\\lib\\site-packages (from requests<3,>=2->langchain) (2.3.0)\n",
      "Requirement already satisfied: greenlet>=1 in c:\\users\\patil\\anaconda3\\envs\\genai\\lib\\site-packages (from SQLAlchemy<3,>=1.4->langchain) (3.2.3)\n",
      "Requirement already satisfied: sniffio>=1.1 in c:\\users\\patil\\anaconda3\\envs\\genai\\lib\\site-packages (from anyio->httpx<1,>=0.23.0->langsmith<0.4,>=0.1.17->langchain) (1.3.0)\n",
      "Requirement already satisfied: pydantic==2.7.4 in c:\\users\\patil\\anaconda3\\envs\\genai\\lib\\site-packages (2.7.4)\n",
      "Requirement already satisfied: annotated-types>=0.4.0 in c:\\users\\patil\\anaconda3\\envs\\genai\\lib\\site-packages (from pydantic==2.7.4) (0.7.0)\n",
      "Requirement already satisfied: pydantic-core==2.18.4 in c:\\users\\patil\\anaconda3\\envs\\genai\\lib\\site-packages (from pydantic==2.7.4) (2.18.4)\n",
      "Requirement already satisfied: typing-extensions>=4.6.1 in c:\\users\\patil\\anaconda3\\envs\\genai\\lib\\site-packages (from pydantic==2.7.4) (4.12.2)\n"
     ]
    }
   ],
   "source": [
    "!pip install --upgrade langchain\n",
    "!pip install pydantic==2.7.4\n"
   ]
  },
  {
   "cell_type": "code",
   "execution_count": 4,
   "id": "b8c01850",
   "metadata": {},
   "outputs": [
    {
     "name": "stdout",
     "output_type": "stream",
     "text": [
      "Collecting langchain-community\n",
      "  Downloading langchain_community-0.3.24-py3-none-any.whl.metadata (2.5 kB)\n",
      "Requirement already satisfied: langchain-core<1.0.0,>=0.3.59 in c:\\users\\patil\\anaconda3\\envs\\genai\\lib\\site-packages (from langchain-community) (0.3.64)\n",
      "Requirement already satisfied: langchain<1.0.0,>=0.3.25 in c:\\users\\patil\\anaconda3\\envs\\genai\\lib\\site-packages (from langchain-community) (0.3.25)\n",
      "Requirement already satisfied: SQLAlchemy<3,>=1.4 in c:\\users\\patil\\anaconda3\\envs\\genai\\lib\\site-packages (from langchain-community) (2.0.41)\n",
      "Requirement already satisfied: requests<3,>=2 in c:\\users\\patil\\anaconda3\\envs\\genai\\lib\\site-packages (from langchain-community) (2.32.3)\n",
      "Requirement already satisfied: PyYAML>=5.3 in c:\\users\\patil\\anaconda3\\envs\\genai\\lib\\site-packages (from langchain-community) (6.0.2)\n",
      "Requirement already satisfied: aiohttp<4.0.0,>=3.8.3 in c:\\users\\patil\\anaconda3\\envs\\genai\\lib\\site-packages (from langchain-community) (3.12.12)\n",
      "Requirement already satisfied: tenacity!=8.4.0,<10,>=8.1.0 in c:\\users\\patil\\anaconda3\\envs\\genai\\lib\\site-packages (from langchain-community) (8.5.0)\n",
      "Requirement already satisfied: dataclasses-json<0.7,>=0.5.7 in c:\\users\\patil\\anaconda3\\envs\\genai\\lib\\site-packages (from langchain-community) (0.5.14)\n",
      "Collecting pydantic-settings<3.0.0,>=2.4.0 (from langchain-community)\n",
      "  Downloading pydantic_settings-2.9.1-py3-none-any.whl.metadata (3.8 kB)\n",
      "Requirement already satisfied: langsmith<0.4,>=0.1.125 in c:\\users\\patil\\anaconda3\\envs\\genai\\lib\\site-packages (from langchain-community) (0.3.45)\n",
      "Collecting httpx-sse<1.0.0,>=0.4.0 (from langchain-community)\n",
      "  Downloading httpx_sse-0.4.0-py3-none-any.whl.metadata (9.0 kB)\n",
      "Requirement already satisfied: numpy>=1.26.2 in c:\\users\\patil\\anaconda3\\envs\\genai\\lib\\site-packages (from langchain-community) (1.26.4)\n",
      "Requirement already satisfied: aiohappyeyeballs>=2.5.0 in c:\\users\\patil\\anaconda3\\envs\\genai\\lib\\site-packages (from aiohttp<4.0.0,>=3.8.3->langchain-community) (2.6.1)\n",
      "Requirement already satisfied: aiosignal>=1.1.2 in c:\\users\\patil\\anaconda3\\envs\\genai\\lib\\site-packages (from aiohttp<4.0.0,>=3.8.3->langchain-community) (1.3.2)\n",
      "Requirement already satisfied: attrs>=17.3.0 in c:\\users\\patil\\anaconda3\\envs\\genai\\lib\\site-packages (from aiohttp<4.0.0,>=3.8.3->langchain-community) (24.3.0)\n",
      "Requirement already satisfied: frozenlist>=1.1.1 in c:\\users\\patil\\anaconda3\\envs\\genai\\lib\\site-packages (from aiohttp<4.0.0,>=3.8.3->langchain-community) (1.7.0)\n",
      "Requirement already satisfied: multidict<7.0,>=4.5 in c:\\users\\patil\\anaconda3\\envs\\genai\\lib\\site-packages (from aiohttp<4.0.0,>=3.8.3->langchain-community) (6.4.4)\n",
      "Requirement already satisfied: propcache>=0.2.0 in c:\\users\\patil\\anaconda3\\envs\\genai\\lib\\site-packages (from aiohttp<4.0.0,>=3.8.3->langchain-community) (0.3.2)\n",
      "Requirement already satisfied: yarl<2.0,>=1.17.0 in c:\\users\\patil\\anaconda3\\envs\\genai\\lib\\site-packages (from aiohttp<4.0.0,>=3.8.3->langchain-community) (1.20.1)\n",
      "Requirement already satisfied: marshmallow<4.0.0,>=3.18.0 in c:\\users\\patil\\anaconda3\\envs\\genai\\lib\\site-packages (from dataclasses-json<0.7,>=0.5.7->langchain-community) (3.26.1)\n",
      "Requirement already satisfied: typing-inspect<1,>=0.4.0 in c:\\users\\patil\\anaconda3\\envs\\genai\\lib\\site-packages (from dataclasses-json<0.7,>=0.5.7->langchain-community) (0.9.0)\n",
      "Requirement already satisfied: langchain-text-splitters<1.0.0,>=0.3.8 in c:\\users\\patil\\anaconda3\\envs\\genai\\lib\\site-packages (from langchain<1.0.0,>=0.3.25->langchain-community) (0.3.8)\n",
      "Requirement already satisfied: pydantic<3.0.0,>=2.7.4 in c:\\users\\patil\\anaconda3\\envs\\genai\\lib\\site-packages (from langchain<1.0.0,>=0.3.25->langchain-community) (2.7.4)\n",
      "Requirement already satisfied: jsonpatch<2.0,>=1.33 in c:\\users\\patil\\anaconda3\\envs\\genai\\lib\\site-packages (from langchain-core<1.0.0,>=0.3.59->langchain-community) (1.33)\n",
      "Requirement already satisfied: packaging<25,>=23.2 in c:\\users\\patil\\anaconda3\\envs\\genai\\lib\\site-packages (from langchain-core<1.0.0,>=0.3.59->langchain-community) (24.2)\n",
      "Requirement already satisfied: typing-extensions>=4.7 in c:\\users\\patil\\anaconda3\\envs\\genai\\lib\\site-packages (from langchain-core<1.0.0,>=0.3.59->langchain-community) (4.12.2)\n",
      "Requirement already satisfied: jsonpointer>=1.9 in c:\\users\\patil\\anaconda3\\envs\\genai\\lib\\site-packages (from jsonpatch<2.0,>=1.33->langchain-core<1.0.0,>=0.3.59->langchain-community) (3.0.0)\n",
      "Requirement already satisfied: httpx<1,>=0.23.0 in c:\\users\\patil\\anaconda3\\envs\\genai\\lib\\site-packages (from langsmith<0.4,>=0.1.125->langchain-community) (0.28.1)\n",
      "Requirement already satisfied: orjson<4.0.0,>=3.9.14 in c:\\users\\patil\\anaconda3\\envs\\genai\\lib\\site-packages (from langsmith<0.4,>=0.1.125->langchain-community) (3.10.18)\n",
      "Requirement already satisfied: requests-toolbelt<2.0.0,>=1.0.0 in c:\\users\\patil\\anaconda3\\envs\\genai\\lib\\site-packages (from langsmith<0.4,>=0.1.125->langchain-community) (1.0.0)\n",
      "Requirement already satisfied: zstandard<0.24.0,>=0.23.0 in c:\\users\\patil\\anaconda3\\envs\\genai\\lib\\site-packages (from langsmith<0.4,>=0.1.125->langchain-community) (0.23.0)\n",
      "Requirement already satisfied: anyio in c:\\users\\patil\\anaconda3\\envs\\genai\\lib\\site-packages (from httpx<1,>=0.23.0->langsmith<0.4,>=0.1.125->langchain-community) (3.7.1)\n",
      "Requirement already satisfied: certifi in c:\\users\\patil\\anaconda3\\envs\\genai\\lib\\site-packages (from httpx<1,>=0.23.0->langsmith<0.4,>=0.1.125->langchain-community) (2025.4.26)\n",
      "Requirement already satisfied: httpcore==1.* in c:\\users\\patil\\anaconda3\\envs\\genai\\lib\\site-packages (from httpx<1,>=0.23.0->langsmith<0.4,>=0.1.125->langchain-community) (1.0.2)\n",
      "Requirement already satisfied: idna in c:\\users\\patil\\anaconda3\\envs\\genai\\lib\\site-packages (from httpx<1,>=0.23.0->langsmith<0.4,>=0.1.125->langchain-community) (3.7)\n",
      "Requirement already satisfied: h11<0.15,>=0.13 in c:\\users\\patil\\anaconda3\\envs\\genai\\lib\\site-packages (from httpcore==1.*->httpx<1,>=0.23.0->langsmith<0.4,>=0.1.125->langchain-community) (0.14.0)\n",
      "Requirement already satisfied: annotated-types>=0.4.0 in c:\\users\\patil\\anaconda3\\envs\\genai\\lib\\site-packages (from pydantic<3.0.0,>=2.7.4->langchain<1.0.0,>=0.3.25->langchain-community) (0.7.0)\n",
      "Requirement already satisfied: pydantic-core==2.18.4 in c:\\users\\patil\\anaconda3\\envs\\genai\\lib\\site-packages (from pydantic<3.0.0,>=2.7.4->langchain<1.0.0,>=0.3.25->langchain-community) (2.18.4)\n",
      "Requirement already satisfied: python-dotenv>=0.21.0 in c:\\users\\patil\\anaconda3\\envs\\genai\\lib\\site-packages (from pydantic-settings<3.0.0,>=2.4.0->langchain-community) (1.1.0)\n",
      "Requirement already satisfied: typing-inspection>=0.4.0 in c:\\users\\patil\\anaconda3\\envs\\genai\\lib\\site-packages (from pydantic-settings<3.0.0,>=2.4.0->langchain-community) (0.4.1)\n",
      "Requirement already satisfied: charset-normalizer<4,>=2 in c:\\users\\patil\\anaconda3\\envs\\genai\\lib\\site-packages (from requests<3,>=2->langchain-community) (3.3.2)\n",
      "Requirement already satisfied: urllib3<3,>=1.21.1 in c:\\users\\patil\\anaconda3\\envs\\genai\\lib\\site-packages (from requests<3,>=2->langchain-community) (2.3.0)\n",
      "Requirement already satisfied: greenlet>=1 in c:\\users\\patil\\anaconda3\\envs\\genai\\lib\\site-packages (from SQLAlchemy<3,>=1.4->langchain-community) (3.2.3)\n",
      "Requirement already satisfied: mypy-extensions>=0.3.0 in c:\\users\\patil\\anaconda3\\envs\\genai\\lib\\site-packages (from typing-inspect<1,>=0.4.0->dataclasses-json<0.7,>=0.5.7->langchain-community) (1.1.0)\n",
      "Requirement already satisfied: sniffio>=1.1 in c:\\users\\patil\\anaconda3\\envs\\genai\\lib\\site-packages (from anyio->httpx<1,>=0.23.0->langsmith<0.4,>=0.1.125->langchain-community) (1.3.0)\n",
      "Downloading langchain_community-0.3.24-py3-none-any.whl (2.5 MB)\n",
      "   ---------------------------------------- 0.0/2.5 MB ? eta -:--:--\n",
      "   ---- ----------------------------------- 0.3/2.5 MB ? eta -:--:--\n",
      "   ------------ --------------------------- 0.8/2.5 MB 2.6 MB/s eta 0:00:01\n",
      "   -------------------- ------------------- 1.3/2.5 MB 2.5 MB/s eta 0:00:01\n",
      "   --------------------------------- ------ 2.1/2.5 MB 2.7 MB/s eta 0:00:01\n",
      "   ---------------------------------------- 2.5/2.5 MB 2.8 MB/s eta 0:00:00\n",
      "Downloading httpx_sse-0.4.0-py3-none-any.whl (7.8 kB)\n",
      "Downloading pydantic_settings-2.9.1-py3-none-any.whl (44 kB)\n",
      "Installing collected packages: httpx-sse, pydantic-settings, langchain-community\n",
      "\n",
      "   ------------- -------------------------- 1/3 [pydantic-settings]\n",
      "   ------------- -------------------------- 1/3 [pydantic-settings]\n",
      "   -------------------------- ------------- 2/3 [langchain-community]\n",
      "   -------------------------- ------------- 2/3 [langchain-community]\n",
      "   -------------------------- ------------- 2/3 [langchain-community]\n",
      "   -------------------------- ------------- 2/3 [langchain-community]\n",
      "   -------------------------- ------------- 2/3 [langchain-community]\n",
      "   -------------------------- ------------- 2/3 [langchain-community]\n",
      "   -------------------------- ------------- 2/3 [langchain-community]\n",
      "   -------------------------- ------------- 2/3 [langchain-community]\n",
      "   -------------------------- ------------- 2/3 [langchain-community]\n",
      "   -------------------------- ------------- 2/3 [langchain-community]\n",
      "   -------------------------- ------------- 2/3 [langchain-community]\n",
      "   -------------------------- ------------- 2/3 [langchain-community]\n",
      "   -------------------------- ------------- 2/3 [langchain-community]\n",
      "   -------------------------- ------------- 2/3 [langchain-community]\n",
      "   -------------------------- ------------- 2/3 [langchain-community]\n",
      "   -------------------------- ------------- 2/3 [langchain-community]\n",
      "   -------------------------- ------------- 2/3 [langchain-community]\n",
      "   -------------------------- ------------- 2/3 [langchain-community]\n",
      "   -------------------------- ------------- 2/3 [langchain-community]\n",
      "   -------------------------- ------------- 2/3 [langchain-community]\n",
      "   -------------------------- ------------- 2/3 [langchain-community]\n",
      "   -------------------------- ------------- 2/3 [langchain-community]\n",
      "   -------------------------- ------------- 2/3 [langchain-community]\n",
      "   -------------------------- ------------- 2/3 [langchain-community]\n",
      "   -------------------------- ------------- 2/3 [langchain-community]\n",
      "   -------------------------- ------------- 2/3 [langchain-community]\n",
      "   -------------------------- ------------- 2/3 [langchain-community]\n",
      "   -------------------------- ------------- 2/3 [langchain-community]\n",
      "   -------------------------- ------------- 2/3 [langchain-community]\n",
      "   -------------------------- ------------- 2/3 [langchain-community]\n",
      "   -------------------------- ------------- 2/3 [langchain-community]\n",
      "   -------------------------- ------------- 2/3 [langchain-community]\n",
      "   -------------------------- ------------- 2/3 [langchain-community]\n",
      "   -------------------------- ------------- 2/3 [langchain-community]\n",
      "   -------------------------- ------------- 2/3 [langchain-community]\n",
      "   -------------------------- ------------- 2/3 [langchain-community]\n",
      "   -------------------------- ------------- 2/3 [langchain-community]\n",
      "   -------------------------- ------------- 2/3 [langchain-community]\n",
      "   -------------------------- ------------- 2/3 [langchain-community]\n",
      "   -------------------------- ------------- 2/3 [langchain-community]\n",
      "   -------------------------- ------------- 2/3 [langchain-community]\n",
      "   -------------------------- ------------- 2/3 [langchain-community]\n",
      "   -------------------------- ------------- 2/3 [langchain-community]\n",
      "   -------------------------- ------------- 2/3 [langchain-community]\n",
      "   -------------------------- ------------- 2/3 [langchain-community]\n",
      "   -------------------------- ------------- 2/3 [langchain-community]\n",
      "   -------------------------- ------------- 2/3 [langchain-community]\n",
      "   -------------------------- ------------- 2/3 [langchain-community]\n",
      "   -------------------------- ------------- 2/3 [langchain-community]\n",
      "   -------------------------- ------------- 2/3 [langchain-community]\n",
      "   -------------------------- ------------- 2/3 [langchain-community]\n",
      "   -------------------------- ------------- 2/3 [langchain-community]\n",
      "   -------------------------- ------------- 2/3 [langchain-community]\n",
      "   -------------------------- ------------- 2/3 [langchain-community]\n",
      "   -------------------------- ------------- 2/3 [langchain-community]\n",
      "   -------------------------- ------------- 2/3 [langchain-community]\n",
      "   -------------------------- ------------- 2/3 [langchain-community]\n",
      "   -------------------------- ------------- 2/3 [langchain-community]\n",
      "   -------------------------- ------------- 2/3 [langchain-community]\n",
      "   -------------------------- ------------- 2/3 [langchain-community]\n",
      "   -------------------------- ------------- 2/3 [langchain-community]\n",
      "   -------------------------- ------------- 2/3 [langchain-community]\n",
      "   -------------------------- ------------- 2/3 [langchain-community]\n",
      "   -------------------------- ------------- 2/3 [langchain-community]\n",
      "   -------------------------- ------------- 2/3 [langchain-community]\n",
      "   -------------------------- ------------- 2/3 [langchain-community]\n",
      "   -------------------------- ------------- 2/3 [langchain-community]\n",
      "   -------------------------- ------------- 2/3 [langchain-community]\n",
      "   -------------------------- ------------- 2/3 [langchain-community]\n",
      "   -------------------------- ------------- 2/3 [langchain-community]\n",
      "   -------------------------- ------------- 2/3 [langchain-community]\n",
      "   -------------------------- ------------- 2/3 [langchain-community]\n",
      "   -------------------------- ------------- 2/3 [langchain-community]\n",
      "   -------------------------- ------------- 2/3 [langchain-community]\n",
      "   -------------------------- ------------- 2/3 [langchain-community]\n",
      "   -------------------------- ------------- 2/3 [langchain-community]\n",
      "   -------------------------- ------------- 2/3 [langchain-community]\n",
      "   -------------------------- ------------- 2/3 [langchain-community]\n",
      "   -------------------------- ------------- 2/3 [langchain-community]\n",
      "   -------------------------- ------------- 2/3 [langchain-community]\n",
      "   -------------------------- ------------- 2/3 [langchain-community]\n",
      "   -------------------------- ------------- 2/3 [langchain-community]\n",
      "   -------------------------- ------------- 2/3 [langchain-community]\n",
      "   -------------------------- ------------- 2/3 [langchain-community]\n",
      "   -------------------------- ------------- 2/3 [langchain-community]\n",
      "   -------------------------- ------------- 2/3 [langchain-community]\n",
      "   -------------------------- ------------- 2/3 [langchain-community]\n",
      "   -------------------------- ------------- 2/3 [langchain-community]\n",
      "   -------------------------- ------------- 2/3 [langchain-community]\n",
      "   -------------------------- ------------- 2/3 [langchain-community]\n",
      "   -------------------------- ------------- 2/3 [langchain-community]\n",
      "   -------------------------- ------------- 2/3 [langchain-community]\n",
      "   -------------------------- ------------- 2/3 [langchain-community]\n",
      "   -------------------------- ------------- 2/3 [langchain-community]\n",
      "   -------------------------- ------------- 2/3 [langchain-community]\n",
      "   -------------------------- ------------- 2/3 [langchain-community]\n",
      "   -------------------------- ------------- 2/3 [langchain-community]\n",
      "   -------------------------- ------------- 2/3 [langchain-community]\n",
      "   ---------------------------------------- 3/3 [langchain-community]\n",
      "\n",
      "Successfully installed httpx-sse-0.4.0 langchain-community-0.3.24 pydantic-settings-2.9.1\n"
     ]
    }
   ],
   "source": [
    "!pip install langchain-community"
   ]
  },
  {
   "cell_type": "code",
   "execution_count": 7,
   "id": "0ac8cddc",
   "metadata": {},
   "outputs": [
    {
     "name": "stdout",
     "output_type": "stream",
     "text": [
      "Collecting langchain-openai\n",
      "  Downloading langchain_openai-0.3.21-py3-none-any.whl.metadata (2.3 kB)\n",
      "Requirement already satisfied: langchain-core<1.0.0,>=0.3.64 in c:\\users\\patil\\anaconda3\\envs\\genai\\lib\\site-packages (from langchain-openai) (0.3.64)\n",
      "Requirement already satisfied: openai<2.0.0,>=1.68.2 in c:\\users\\patil\\anaconda3\\envs\\genai\\lib\\site-packages (from langchain-openai) (1.82.0)\n",
      "Requirement already satisfied: tiktoken<1,>=0.7 in c:\\users\\patil\\anaconda3\\envs\\genai\\lib\\site-packages (from langchain-openai) (0.9.0)\n",
      "Requirement already satisfied: langsmith<0.4,>=0.3.45 in c:\\users\\patil\\anaconda3\\envs\\genai\\lib\\site-packages (from langchain-core<1.0.0,>=0.3.64->langchain-openai) (0.3.45)\n",
      "Requirement already satisfied: tenacity!=8.4.0,<10.0.0,>=8.1.0 in c:\\users\\patil\\anaconda3\\envs\\genai\\lib\\site-packages (from langchain-core<1.0.0,>=0.3.64->langchain-openai) (8.5.0)\n",
      "Requirement already satisfied: jsonpatch<2.0,>=1.33 in c:\\users\\patil\\anaconda3\\envs\\genai\\lib\\site-packages (from langchain-core<1.0.0,>=0.3.64->langchain-openai) (1.33)\n",
      "Requirement already satisfied: PyYAML>=5.3 in c:\\users\\patil\\anaconda3\\envs\\genai\\lib\\site-packages (from langchain-core<1.0.0,>=0.3.64->langchain-openai) (6.0.2)\n",
      "Requirement already satisfied: packaging<25,>=23.2 in c:\\users\\patil\\anaconda3\\envs\\genai\\lib\\site-packages (from langchain-core<1.0.0,>=0.3.64->langchain-openai) (24.2)\n",
      "Requirement already satisfied: typing-extensions>=4.7 in c:\\users\\patil\\anaconda3\\envs\\genai\\lib\\site-packages (from langchain-core<1.0.0,>=0.3.64->langchain-openai) (4.12.2)\n",
      "Requirement already satisfied: pydantic>=2.7.4 in c:\\users\\patil\\anaconda3\\envs\\genai\\lib\\site-packages (from langchain-core<1.0.0,>=0.3.64->langchain-openai) (2.7.4)\n",
      "Requirement already satisfied: jsonpointer>=1.9 in c:\\users\\patil\\anaconda3\\envs\\genai\\lib\\site-packages (from jsonpatch<2.0,>=1.33->langchain-core<1.0.0,>=0.3.64->langchain-openai) (3.0.0)\n",
      "Requirement already satisfied: httpx<1,>=0.23.0 in c:\\users\\patil\\anaconda3\\envs\\genai\\lib\\site-packages (from langsmith<0.4,>=0.3.45->langchain-core<1.0.0,>=0.3.64->langchain-openai) (0.28.1)\n",
      "Requirement already satisfied: orjson<4.0.0,>=3.9.14 in c:\\users\\patil\\anaconda3\\envs\\genai\\lib\\site-packages (from langsmith<0.4,>=0.3.45->langchain-core<1.0.0,>=0.3.64->langchain-openai) (3.10.18)\n",
      "Requirement already satisfied: requests<3,>=2 in c:\\users\\patil\\anaconda3\\envs\\genai\\lib\\site-packages (from langsmith<0.4,>=0.3.45->langchain-core<1.0.0,>=0.3.64->langchain-openai) (2.32.3)\n",
      "Requirement already satisfied: requests-toolbelt<2.0.0,>=1.0.0 in c:\\users\\patil\\anaconda3\\envs\\genai\\lib\\site-packages (from langsmith<0.4,>=0.3.45->langchain-core<1.0.0,>=0.3.64->langchain-openai) (1.0.0)\n",
      "Requirement already satisfied: zstandard<0.24.0,>=0.23.0 in c:\\users\\patil\\anaconda3\\envs\\genai\\lib\\site-packages (from langsmith<0.4,>=0.3.45->langchain-core<1.0.0,>=0.3.64->langchain-openai) (0.23.0)\n",
      "Requirement already satisfied: anyio in c:\\users\\patil\\anaconda3\\envs\\genai\\lib\\site-packages (from httpx<1,>=0.23.0->langsmith<0.4,>=0.3.45->langchain-core<1.0.0,>=0.3.64->langchain-openai) (3.7.1)\n",
      "Requirement already satisfied: certifi in c:\\users\\patil\\anaconda3\\envs\\genai\\lib\\site-packages (from httpx<1,>=0.23.0->langsmith<0.4,>=0.3.45->langchain-core<1.0.0,>=0.3.64->langchain-openai) (2025.4.26)\n",
      "Requirement already satisfied: httpcore==1.* in c:\\users\\patil\\anaconda3\\envs\\genai\\lib\\site-packages (from httpx<1,>=0.23.0->langsmith<0.4,>=0.3.45->langchain-core<1.0.0,>=0.3.64->langchain-openai) (1.0.2)\n",
      "Requirement already satisfied: idna in c:\\users\\patil\\anaconda3\\envs\\genai\\lib\\site-packages (from httpx<1,>=0.23.0->langsmith<0.4,>=0.3.45->langchain-core<1.0.0,>=0.3.64->langchain-openai) (3.7)\n",
      "Requirement already satisfied: h11<0.15,>=0.13 in c:\\users\\patil\\anaconda3\\envs\\genai\\lib\\site-packages (from httpcore==1.*->httpx<1,>=0.23.0->langsmith<0.4,>=0.3.45->langchain-core<1.0.0,>=0.3.64->langchain-openai) (0.14.0)\n",
      "Requirement already satisfied: distro<2,>=1.7.0 in c:\\users\\patil\\anaconda3\\envs\\genai\\lib\\site-packages (from openai<2.0.0,>=1.68.2->langchain-openai) (1.9.0)\n",
      "Requirement already satisfied: jiter<1,>=0.4.0 in c:\\users\\patil\\anaconda3\\envs\\genai\\lib\\site-packages (from openai<2.0.0,>=1.68.2->langchain-openai) (0.10.0)\n",
      "Requirement already satisfied: sniffio in c:\\users\\patil\\anaconda3\\envs\\genai\\lib\\site-packages (from openai<2.0.0,>=1.68.2->langchain-openai) (1.3.0)\n",
      "Requirement already satisfied: tqdm>4 in c:\\users\\patil\\anaconda3\\envs\\genai\\lib\\site-packages (from openai<2.0.0,>=1.68.2->langchain-openai) (4.67.1)\n",
      "Requirement already satisfied: annotated-types>=0.4.0 in c:\\users\\patil\\anaconda3\\envs\\genai\\lib\\site-packages (from pydantic>=2.7.4->langchain-core<1.0.0,>=0.3.64->langchain-openai) (0.7.0)\n",
      "Requirement already satisfied: pydantic-core==2.18.4 in c:\\users\\patil\\anaconda3\\envs\\genai\\lib\\site-packages (from pydantic>=2.7.4->langchain-core<1.0.0,>=0.3.64->langchain-openai) (2.18.4)\n",
      "Requirement already satisfied: charset-normalizer<4,>=2 in c:\\users\\patil\\anaconda3\\envs\\genai\\lib\\site-packages (from requests<3,>=2->langsmith<0.4,>=0.3.45->langchain-core<1.0.0,>=0.3.64->langchain-openai) (3.3.2)\n",
      "Requirement already satisfied: urllib3<3,>=1.21.1 in c:\\users\\patil\\anaconda3\\envs\\genai\\lib\\site-packages (from requests<3,>=2->langsmith<0.4,>=0.3.45->langchain-core<1.0.0,>=0.3.64->langchain-openai) (2.3.0)\n",
      "Requirement already satisfied: regex>=2022.1.18 in c:\\users\\patil\\anaconda3\\envs\\genai\\lib\\site-packages (from tiktoken<1,>=0.7->langchain-openai) (2024.11.6)\n",
      "Requirement already satisfied: colorama in c:\\users\\patil\\anaconda3\\envs\\genai\\lib\\site-packages (from tqdm>4->openai<2.0.0,>=1.68.2->langchain-openai) (0.4.6)\n",
      "Downloading langchain_openai-0.3.21-py3-none-any.whl (65 kB)\n",
      "Installing collected packages: langchain-openai\n",
      "Successfully installed langchain-openai-0.3.21\n"
     ]
    }
   ],
   "source": [
    "!pip install -U langchain-openai"
   ]
  },
  {
   "cell_type": "code",
   "execution_count": 53,
   "id": "fd55c0a0-ca4e-4311-a33c-fcebeb7d8b1e",
   "metadata": {
    "height": 79
   },
   "outputs": [],
   "source": [
    "from langchain.prompts import ChatPromptTemplate\n",
    "from langchain_openai import ChatOpenAI\n",
    "from langchain.schema.output_parser import StrOutputParser"
   ]
  },
  {
   "cell_type": "markdown",
   "id": "e99c432b-b2c9-497b-9912-c9ca4c1e3740",
   "metadata": {},
   "source": [
    "## Simple Chain"
   ]
  },
  {
   "cell_type": "code",
   "execution_count": 57,
   "id": "6a0be20d-0e00-478c-a844-017cad13af22",
   "metadata": {
    "height": 98
   },
   "outputs": [],
   "source": [
    "prompt = ChatPromptTemplate.from_template(\n",
    "    \"suggest me an online site on which one can find {topic}\"\n",
    ")\n",
    "model = ChatOpenAI()\n",
    "output_parser = StrOutputParser()"
   ]
  },
  {
   "cell_type": "code",
   "execution_count": 58,
   "id": "aedf1c1e-b697-47ce-9d81-eaec9192243b",
   "metadata": {
    "height": 30
   },
   "outputs": [],
   "source": [
    "chain = prompt | model | output_parser"
   ]
  },
  {
   "cell_type": "code",
   "execution_count": 60,
   "id": "6df32028-d35f-4392-bb15-ddeec9ee09b5",
   "metadata": {
    "height": 30
   },
   "outputs": [
    {
     "data": {
      "text/plain": [
       "'One online site where you can find information on birds is eBird (www.ebird.org). eBird is a global database of bird sightings, providing information on bird species, distribution, and abundance. You can also use the site to record your own bird sightings and contribute to citizen science research on bird populations.'"
      ]
     },
     "execution_count": 60,
     "metadata": {},
     "output_type": "execute_result"
    }
   ],
   "source": [
    "chain.invoke({\"topic\": \"birds\"})"
   ]
  },
  {
   "cell_type": "markdown",
   "id": "d8ba33b5-2ae9-44d7-b023-18c903af571a",
   "metadata": {},
   "source": [
    "## More complex chain\n",
    "\n",
    "And Runnable Map to supply user-provided inputs to the prompt."
   ]
  },
  {
   "cell_type": "code",
   "execution_count": 61,
   "id": "d036bb8e-8ca7-4dbd-8103-f50a3c8c3af9",
   "metadata": {
    "height": 62
   },
   "outputs": [],
   "source": [
    "from langchain_openai import OpenAIEmbeddings\n",
    "from langchain_community.vectorstores import DocArrayInMemorySearch"
   ]
  },
  {
   "cell_type": "code",
   "execution_count": 62,
   "id": "8c5e138c",
   "metadata": {},
   "outputs": [],
   "source": [
    "# !pip install docarray"
   ]
  },
  {
   "cell_type": "code",
   "execution_count": 63,
   "id": "8955cff7-f1a2-4f94-ab5b-fcdda0859702",
   "metadata": {
    "height": 113
   },
   "outputs": [],
   "source": [
    "vectorstore = DocArrayInMemorySearch.from_texts(\n",
    "    [\"your mom is a doctor\", \"bees are important for the environment\", \"birds can fly\"],\n",
    "    embedding=OpenAIEmbeddings()\n",
    ")\n",
    "retriever = vectorstore.as_retriever()"
   ]
  },
  {
   "cell_type": "code",
   "execution_count": 64,
   "id": "2df87934-1697-405c-b460-5e9bfd16c792",
   "metadata": {
    "height": 45
   },
   "outputs": [
    {
     "data": {
      "text/plain": [
       "[Document(metadata={}, page_content='your mom is a doctor'),\n",
       " Document(metadata={}, page_content='bees are important for the environment'),\n",
       " Document(metadata={}, page_content='birds can fly')]"
      ]
     },
     "execution_count": 64,
     "metadata": {},
     "output_type": "execute_result"
    }
   ],
   "source": [
    "retriever.invoke(\"what is the occupation of your mom?\")"
   ]
  },
  {
   "cell_type": "code",
   "execution_count": 65,
   "id": "871cb26b-97b3-4f63-8bb3-523d3e6d117b",
   "metadata": {
    "height": 45
   },
   "outputs": [
    {
     "data": {
      "text/plain": [
       "[Document(metadata={}, page_content='birds can fly'),\n",
       " Document(metadata={}, page_content='bees are important for the environment'),\n",
       " Document(metadata={}, page_content='your mom is a doctor')]"
      ]
     },
     "execution_count": 65,
     "metadata": {},
     "output_type": "execute_result"
    }
   ],
   "source": [
    "retriever.invoke(\"birds are capable of?\")"
   ]
  },
  {
   "cell_type": "code",
   "execution_count": 66,
   "id": "127a7fb6-5821-4934-ab56-9e3300516c05",
   "metadata": {
    "height": 130
   },
   "outputs": [],
   "source": [
    "template = \"\"\"Answer the question based only on the following context:\n",
    "{context}\n",
    "\n",
    "Question: {question}\n",
    "\"\"\"\n",
    "prompt = ChatPromptTemplate.from_template(template)"
   ]
  },
  {
   "cell_type": "code",
   "execution_count": 67,
   "id": "4ec01c56-731c-4e4f-a5f6-493fba953db0",
   "metadata": {
    "height": 30
   },
   "outputs": [],
   "source": [
    "from langchain_core.runnables import RunnableMap"
   ]
  },
  {
   "cell_type": "code",
   "execution_count": 70,
   "id": "a9ca6506-826f-4420-8f19-25dd4dbbc1dc",
   "metadata": {
    "height": 96
   },
   "outputs": [],
   "source": [
    "chain = RunnableMap({\n",
    "    \"context\": lambda x: retriever.get_relevant_documents(x[\"question\"]),\n",
    "    \"question\": lambda x: x[\"question\"]\n",
    "}) | prompt | model | output_parser"
   ]
  },
  {
   "cell_type": "code",
   "execution_count": 71,
   "id": "707d1319-8840-4ed5-b4a4-a2a128799db6",
   "metadata": {
    "height": 45
   },
   "outputs": [
    {
     "data": {
      "text/plain": [
       "'Bees are important for the environment.'"
      ]
     },
     "execution_count": 71,
     "metadata": {},
     "output_type": "execute_result"
    }
   ],
   "source": [
    "chain.invoke({\"question\": \"bees?\"})"
   ]
  },
  {
   "cell_type": "code",
   "execution_count": 72,
   "id": "05ec3727-4284-417e-9e23-eec0682eb002",
   "metadata": {
    "height": 96
   },
   "outputs": [],
   "source": [
    "inputs = RunnableMap({\n",
    "    \"context\": lambda x: retriever.get_relevant_documents(x[\"question\"]),\n",
    "    \"question\": lambda x: x[\"question\"]\n",
    "})"
   ]
  },
  {
   "cell_type": "code",
   "execution_count": 73,
   "id": "4216c7ab-6d1b-4f2a-98dc-5d2ace23e3c2",
   "metadata": {
    "height": 45
   },
   "outputs": [
    {
     "data": {
      "text/plain": [
       "{'context': [Document(metadata={}, page_content='bees are important for the environment'),\n",
       "  Document(metadata={}, page_content='birds can fly'),\n",
       "  Document(metadata={}, page_content='your mom is a doctor')],\n",
       " 'question': 'bees?'}"
      ]
     },
     "execution_count": 73,
     "metadata": {},
     "output_type": "execute_result"
    }
   ],
   "source": [
    "inputs.invoke({\"question\": \"bees?\"})"
   ]
  },
  {
   "cell_type": "markdown",
   "id": "eec59c3b-33e7-437f-9b8b-b4652bc3b863",
   "metadata": {},
   "source": [
    "## Bind\n",
    "\n",
    "and OpenAI Functions"
   ]
  },
  {
   "cell_type": "code",
   "execution_count": null,
   "id": "f3efed3b-6d4c-42a4-9692-0cc4596f530b",
   "metadata": {
    "height": 300
   },
   "outputs": [],
   "source": [
    "functions = [ \n",
    "    { \n",
    "      \"name\": \"get_factorial\", \n",
    "      \"description\": \"Calculate the factorial of a number\", \n",
    "      \"parameters\": { \n",
    "        \"type\": \"object\", \n",
    "        \"properties\": { \n",
    "          \"number\": { \n",
    "            \"type\": \"integer\", \n",
    "            \"description\": \"The number to calculate factorial of\" \n",
    "          }, \n",
    "        }, \n",
    "        \"required\": [\"number\"] \n",
    "      } \n",
    "    } \n",
    "  ]"
   ]
  },
  {
   "cell_type": "code",
   "execution_count": 97,
   "id": "0cd760c9",
   "metadata": {},
   "outputs": [],
   "source": [
    "template = \"\"\"Answer the question based only on the following context:\n",
    "{context}\n",
    "\n",
    "Question: {question}\n",
    "\"\"\"\n",
    "prompt1 = ChatPromptTemplate.from_template(template)"
   ]
  },
  {
   "cell_type": "code",
   "execution_count": 98,
   "id": "f8be4721-91d2-4ae6-8fdb-e91dc6ac1bc5",
   "metadata": {
    "height": 130
   },
   "outputs": [],
   "source": [
    "prompt2 = ChatPromptTemplate.from_messages(\n",
    "    [\n",
    "        (\"human\", \"{input}\")\n",
    "    ]\n",
    ")\n",
    "model = ChatOpenAI(temperature=0).bind(functions=functions)"
   ]
  },
  {
   "cell_type": "code",
   "execution_count": 99,
   "id": "e61b095d-9934-41b8-a794-a9dd57e9c733",
   "metadata": {
    "height": 30
   },
   "outputs": [],
   "source": [
    "runnable = prompt1 | prompt2 | model\n"
   ]
  },
  {
   "cell_type": "code",
   "execution_count": 101,
   "id": "a638efeb-b5ce-4aa4-8377-3e86597a03ab",
   "metadata": {
    "height": 45
   },
   "outputs": [
    {
     "data": {
      "text/plain": [
       "AIMessage(content='', additional_kwargs={'function_call': {'arguments': '{\"number\":8}', 'name': 'get_factorial'}, 'refusal': None}, response_metadata={'token_usage': {'completion_tokens': 15, 'prompt_tokens': 162, 'total_tokens': 177, 'completion_tokens_details': {'accepted_prediction_tokens': 0, 'audio_tokens': 0, 'reasoning_tokens': 0, 'rejected_prediction_tokens': 0}, 'prompt_tokens_details': {'audio_tokens': 0, 'cached_tokens': 0}}, 'model_name': 'gpt-3.5-turbo-0125', 'system_fingerprint': None, 'id': 'chatcmpl-Bgqu115gBpw5uxMCWBHrwtxvVg21K', 'service_tier': 'default', 'finish_reason': 'function_call', 'logprobs': None}, id='run--13b7c62c-2fcd-4a07-a387-e8f7c79d93cb-0', usage_metadata={'input_tokens': 162, 'output_tokens': 15, 'total_tokens': 177, 'input_token_details': {'audio': 0, 'cache_read': 0}, 'output_token_details': {'audio': 0, 'reasoning': 0}})"
      ]
     },
     "execution_count": 101,
     "metadata": {},
     "output_type": "execute_result"
    }
   ],
   "source": [
    "runnable.invoke({\"context\": \"\", \"question\": \"what is the factorial of 8?\"})"
   ]
  },
  {
   "cell_type": "code",
   "execution_count": 102,
   "id": "3a22faf5-ea24-48d2-b028-03733b548225",
   "metadata": {
    "height": 538
   },
   "outputs": [],
   "source": [
    "functions = [\n",
    "    {\n",
    "      \"name\": \"weather_search\",\n",
    "      \"description\": \"Search for weather given an airport code\",\n",
    "      \"parameters\": {\n",
    "        \"type\": \"object\",\n",
    "        \"properties\": {\n",
    "          \"airport_code\": {\n",
    "            \"type\": \"string\",\n",
    "            \"description\": \"The airport code to get the weather for\"\n",
    "          },\n",
    "        },\n",
    "        \"required\": [\"airport_code\"]\n",
    "      }\n",
    "    },\n",
    "    {\n",
    "      \"name\": \"sports_search\",\n",
    "      \"description\": \"Search for news of recent sport events\",\n",
    "      \"parameters\": {\n",
    "        \"type\": \"object\",\n",
    "        \"properties\": {\n",
    "          \"team_name\": {\n",
    "            \"type\": \"string\",\n",
    "            \"description\": \"The sports team to search for\"\n",
    "          },\n",
    "        },\n",
    "        \"required\": [\"team_name\"]\n",
    "      }\n",
    "    },\n",
    "    { \n",
    "      \"name\": \"get_factorial\", \n",
    "      \"description\": \"Calculate the factorial of a number\", \n",
    "      \"parameters\": { \n",
    "        \"type\": \"object\", \n",
    "        \"properties\": { \n",
    "          \"number\": { \n",
    "            \"type\": \"integer\", \n",
    "            \"description\": \"The number to calculate factorial of\" \n",
    "          }, \n",
    "        }, \n",
    "        \"required\": [\"number\"] \n",
    "      } \n",
    "    } \n",
    "  ]"
   ]
  },
  {
   "cell_type": "code",
   "execution_count": 103,
   "id": "eb43b030-459f-47e8-a27d-96c2d70cdfef",
   "metadata": {
    "height": 30
   },
   "outputs": [],
   "source": [
    "model = model.bind(functions=functions)"
   ]
  },
  {
   "cell_type": "code",
   "execution_count": 104,
   "id": "3ff03e0d-d6c6-4b47-815e-d7ea5b248567",
   "metadata": {
    "height": 30
   },
   "outputs": [],
   "source": [
    "runnable = prompt1 | prompt2 | model"
   ]
  },
  {
   "cell_type": "code",
   "execution_count": 108,
   "id": "03855fa3-5e2f-4ab2-aba0-c2cd5423239e",
   "metadata": {
    "height": 45
   },
   "outputs": [
    {
     "data": {
      "text/plain": [
       "AIMessage(content='', additional_kwargs={'function_call': {'arguments': '{\"team_name\":\"patriots\"}', 'name': 'sports_search'}, 'refusal': None}, response_metadata={'token_usage': {'completion_tokens': 18, 'prompt_tokens': 162, 'total_tokens': 180, 'completion_tokens_details': {'accepted_prediction_tokens': 0, 'audio_tokens': 0, 'reasoning_tokens': 0, 'rejected_prediction_tokens': 0}, 'prompt_tokens_details': {'audio_tokens': 0, 'cached_tokens': 0}}, 'model_name': 'gpt-3.5-turbo-0125', 'system_fingerprint': None, 'id': 'chatcmpl-BgqvdXfgwYXJlB6LsXNHhKkl5IrU7', 'service_tier': 'default', 'finish_reason': 'function_call', 'logprobs': None}, id='run--944a629d-5e2e-487a-9587-282b4bba95de-0', usage_metadata={'input_tokens': 162, 'output_tokens': 18, 'total_tokens': 180, 'input_token_details': {'audio': 0, 'cache_read': 0}, 'output_token_details': {'audio': 0, 'reasoning': 0}})"
      ]
     },
     "execution_count": 108,
     "metadata": {},
     "output_type": "execute_result"
    }
   ],
   "source": [
    "runnable.invoke({\"context\" : \"\", \"question\": \"how did the patriots do yesterday?\"})"
   ]
  },
  {
   "cell_type": "code",
   "execution_count": 109,
   "id": "ca0929af",
   "metadata": {},
   "outputs": [
    {
     "data": {
      "text/plain": [
       "AIMessage(content='', additional_kwargs={'function_call': {'arguments': '{\"airport_code\":\"CA\"}', 'name': 'weather_search'}, 'refusal': None}, response_metadata={'token_usage': {'completion_tokens': 15, 'prompt_tokens': 161, 'total_tokens': 176, 'completion_tokens_details': {'accepted_prediction_tokens': 0, 'audio_tokens': 0, 'reasoning_tokens': 0, 'rejected_prediction_tokens': 0}, 'prompt_tokens_details': {'audio_tokens': 0, 'cached_tokens': 0}}, 'model_name': 'gpt-3.5-turbo-0125', 'system_fingerprint': None, 'id': 'chatcmpl-BgqvyQRrQM0uvRpZfq0XzcmRTPNkj', 'service_tier': 'default', 'finish_reason': 'function_call', 'logprobs': None}, id='run--90732c73-2a86-43be-8440-bc5b9c485667-0', usage_metadata={'input_tokens': 161, 'output_tokens': 15, 'total_tokens': 176, 'input_token_details': {'audio': 0, 'cache_read': 0}, 'output_token_details': {'audio': 0, 'reasoning': 0}})"
      ]
     },
     "execution_count": 109,
     "metadata": {},
     "output_type": "execute_result"
    }
   ],
   "source": [
    "runnable.invoke({\"context\" : \"\", \"question\":  \"what is the weather in CA?\"})"
   ]
  },
  {
   "cell_type": "code",
   "execution_count": 110,
   "id": "d7072283",
   "metadata": {},
   "outputs": [
    {
     "data": {
      "text/plain": [
       "AIMessage(content='', additional_kwargs={'function_call': {'arguments': '{\"number\":9}', 'name': 'get_factorial'}, 'refusal': None}, response_metadata={'token_usage': {'completion_tokens': 15, 'prompt_tokens': 162, 'total_tokens': 177, 'completion_tokens_details': {'accepted_prediction_tokens': 0, 'audio_tokens': 0, 'reasoning_tokens': 0, 'rejected_prediction_tokens': 0}, 'prompt_tokens_details': {'audio_tokens': 0, 'cached_tokens': 0}}, 'model_name': 'gpt-3.5-turbo-0125', 'system_fingerprint': None, 'id': 'chatcmpl-BgqwCCD5LF3zGexU1kR6ZjZFTitVp', 'service_tier': 'default', 'finish_reason': 'function_call', 'logprobs': None}, id='run--d2b2290f-40ef-4796-aede-0812f6937445-0', usage_metadata={'input_tokens': 162, 'output_tokens': 15, 'total_tokens': 177, 'input_token_details': {'audio': 0, 'cache_read': 0}, 'output_token_details': {'audio': 0, 'reasoning': 0}})"
      ]
     },
     "execution_count": 110,
     "metadata": {},
     "output_type": "execute_result"
    }
   ],
   "source": [
    "runnable.invoke({\"context\" : \"\", \"question\": \"what is the factorial of 9?\"})"
   ]
  },
  {
   "cell_type": "code",
   "execution_count": 111,
   "id": "1b070599",
   "metadata": {},
   "outputs": [
    {
     "data": {
      "text/plain": [
       "AIMessage(content=\"I'm sorry, but I cannot answer the question based on the provided context as it does not contain any information related to the name of the Indian President. If you have any specific information or context related to the Indian President, please provide it so that I can assist you with the answer.\", additional_kwargs={'refusal': None}, response_metadata={'token_usage': {'completion_tokens': 59, 'prompt_tokens': 162, 'total_tokens': 221, 'completion_tokens_details': {'accepted_prediction_tokens': 0, 'audio_tokens': 0, 'reasoning_tokens': 0, 'rejected_prediction_tokens': 0}, 'prompt_tokens_details': {'audio_tokens': 0, 'cached_tokens': 0}}, 'model_name': 'gpt-3.5-turbo-0125', 'system_fingerprint': None, 'id': 'chatcmpl-BgqwNSSyed2LTa4NsfZ4htxxIZD4B', 'service_tier': 'default', 'finish_reason': 'stop', 'logprobs': None}, id='run--765e9c14-74fb-4bdc-b446-7079e0ae958d-0', usage_metadata={'input_tokens': 162, 'output_tokens': 59, 'total_tokens': 221, 'input_token_details': {'audio': 0, 'cache_read': 0}, 'output_token_details': {'audio': 0, 'reasoning': 0}})"
      ]
     },
     "execution_count": 111,
     "metadata": {},
     "output_type": "execute_result"
    }
   ],
   "source": [
    "runnable.invoke({\"context\" : \"\", \"question\": \"what is the name of indian president?\"})"
   ]
  },
  {
   "cell_type": "markdown",
   "id": "bebc0c55-48c2-4105-90ec-7297553b8e6a",
   "metadata": {},
   "source": [
    "## Fallbacks"
   ]
  },
  {
   "cell_type": "code",
   "execution_count": 112,
   "id": "aa0b1ea2-7aef-4449-a553-426cb8c5aa30",
   "metadata": {
    "height": 47
   },
   "outputs": [],
   "source": [
    "from langchain_openai import OpenAI\n",
    "import json"
   ]
  },
  {
   "cell_type": "markdown",
   "id": "bef73d77-9cac-419a-9583-8aefc6c9277b",
   "metadata": {},
   "source": [
    "**Note**: Due to the deprication of OpenAI's model `text-davinci-001` on 4 January 2024, you'll be using OpenAI's recommended replacement model `gpt-3.5-turbo-instruct` instead."
   ]
  },
  {
   "cell_type": "code",
   "execution_count": 113,
   "id": "df432efe-9415-42e3-ab57-ecf4d439f369",
   "metadata": {
    "height": 115
   },
   "outputs": [],
   "source": [
    "simple_model = OpenAI(\n",
    "    temperature=0, \n",
    "    max_tokens=1000, \n",
    "    model=\"gpt-3.5-turbo-instruct\"\n",
    ")\n",
    "simple_chain = simple_model | json.loads"
   ]
  },
  {
   "cell_type": "code",
   "execution_count": 114,
   "id": "441928c5-8712-45c5-bfdf-6f51634198a7",
   "metadata": {
    "height": 45
   },
   "outputs": [],
   "source": [
    "challenge = \"write three poems in a json blob, where each poem is a json blob of a title, author, and first line\""
   ]
  },
  {
   "cell_type": "code",
   "execution_count": 115,
   "id": "0739e85f-8497-4471-8ec9-17e958d80771",
   "metadata": {
    "height": 30
   },
   "outputs": [
    {
     "data": {
      "text/plain": [
       "'\\n\\n{\\n    \"title\": \"Autumn Leaves\",\\n    \"author\": \"Emily Dickinson\",\\n    \"first_line\": \"The leaves are falling, one by one\"\\n}\\n\\n{\\n    \"title\": \"The Ocean\\'s Song\",\\n    \"author\": \"Pablo Neruda\",\\n    \"first_line\": \"I hear the ocean\\'s song, a symphony of waves\"\\n}\\n\\n{\\n    \"title\": \"A Winter\\'s Night\",\\n    \"author\": \"Robert Frost\",\\n    \"first_line\": \"The snow falls softly, covering the ground\"\\n}'"
      ]
     },
     "execution_count": 115,
     "metadata": {},
     "output_type": "execute_result"
    }
   ],
   "source": [
    "simple_model.invoke(challenge)"
   ]
  },
  {
   "cell_type": "markdown",
   "id": "3a20d15c-dc8a-4b6d-a423-a5f814425219",
   "metadata": {},
   "source": [
    "<p style=\\\"background-color:#F5C780; padding:15px\\\"><b>Note:</b> The next line is expected to fail.</p>"
   ]
  },
  {
   "cell_type": "code",
   "execution_count": 116,
   "id": "2a5e8492-0927-4a3a-b939-947826246330",
   "metadata": {
    "height": 30
   },
   "outputs": [
    {
     "ename": "JSONDecodeError",
     "evalue": "Extra data: line 9 column 1 (char 125)",
     "output_type": "error",
     "traceback": [
      "\u001b[31m---------------------------------------------------------------------------\u001b[39m",
      "\u001b[31mJSONDecodeError\u001b[39m                           Traceback (most recent call last)",
      "\u001b[36mCell\u001b[39m\u001b[36m \u001b[39m\u001b[32mIn[116]\u001b[39m\u001b[32m, line 1\u001b[39m\n\u001b[32m----> \u001b[39m\u001b[32m1\u001b[39m simple_chain.invoke(challenge)\n",
      "\u001b[36mFile \u001b[39m\u001b[32mc:\\Users\\patil\\anaconda3\\envs\\genai\\Lib\\site-packages\\langchain_core\\runnables\\base.py:3047\u001b[39m, in \u001b[36mRunnableSequence.invoke\u001b[39m\u001b[34m(self, input, config, **kwargs)\u001b[39m\n\u001b[32m   3045\u001b[39m                 input_ = context.run(step.invoke, input_, config, **kwargs)\n\u001b[32m   3046\u001b[39m             \u001b[38;5;28;01melse\u001b[39;00m:\n\u001b[32m-> \u001b[39m\u001b[32m3047\u001b[39m                 input_ = context.run(step.invoke, input_, config)\n\u001b[32m   3048\u001b[39m \u001b[38;5;66;03m# finish the root run\u001b[39;00m\n\u001b[32m   3049\u001b[39m \u001b[38;5;28;01mexcept\u001b[39;00m \u001b[38;5;167;01mBaseException\u001b[39;00m \u001b[38;5;28;01mas\u001b[39;00m e:\n",
      "\u001b[36mFile \u001b[39m\u001b[32mc:\\Users\\patil\\anaconda3\\envs\\genai\\Lib\\site-packages\\langchain_core\\runnables\\base.py:4772\u001b[39m, in \u001b[36mRunnableLambda.invoke\u001b[39m\u001b[34m(self, input, config, **kwargs)\u001b[39m\n\u001b[32m   4758\u001b[39m \u001b[38;5;250m\u001b[39m\u001b[33;03m\"\"\"Invoke this Runnable synchronously.\u001b[39;00m\n\u001b[32m   4759\u001b[39m \n\u001b[32m   4760\u001b[39m \u001b[33;03mArgs:\u001b[39;00m\n\u001b[32m   (...)\u001b[39m\u001b[32m   4769\u001b[39m \u001b[33;03m    TypeError: If the Runnable is a coroutine function.\u001b[39;00m\n\u001b[32m   4770\u001b[39m \u001b[33;03m\"\"\"\u001b[39;00m\n\u001b[32m   4771\u001b[39m \u001b[38;5;28;01mif\u001b[39;00m \u001b[38;5;28mhasattr\u001b[39m(\u001b[38;5;28mself\u001b[39m, \u001b[33m\"\u001b[39m\u001b[33mfunc\u001b[39m\u001b[33m\"\u001b[39m):\n\u001b[32m-> \u001b[39m\u001b[32m4772\u001b[39m     \u001b[38;5;28;01mreturn\u001b[39;00m \u001b[38;5;28mself\u001b[39m._call_with_config(\n\u001b[32m   4773\u001b[39m         \u001b[38;5;28mself\u001b[39m._invoke,\n\u001b[32m   4774\u001b[39m         \u001b[38;5;28minput\u001b[39m,\n\u001b[32m   4775\u001b[39m         ensure_config(config),\n\u001b[32m   4776\u001b[39m         **kwargs,\n\u001b[32m   4777\u001b[39m     )\n\u001b[32m   4778\u001b[39m msg = \u001b[33m\"\u001b[39m\u001b[33mCannot invoke a coroutine function synchronously.Use `ainvoke` instead.\u001b[39m\u001b[33m\"\u001b[39m\n\u001b[32m   4779\u001b[39m \u001b[38;5;28;01mraise\u001b[39;00m \u001b[38;5;167;01mTypeError\u001b[39;00m(msg)\n",
      "\u001b[36mFile \u001b[39m\u001b[32mc:\\Users\\patil\\anaconda3\\envs\\genai\\Lib\\site-packages\\langchain_core\\runnables\\base.py:1940\u001b[39m, in \u001b[36mRunnable._call_with_config\u001b[39m\u001b[34m(self, func, input_, config, run_type, serialized, **kwargs)\u001b[39m\n\u001b[32m   1936\u001b[39m     child_config = patch_config(config, callbacks=run_manager.get_child())\n\u001b[32m   1937\u001b[39m     \u001b[38;5;28;01mwith\u001b[39;00m set_config_context(child_config) \u001b[38;5;28;01mas\u001b[39;00m context:\n\u001b[32m   1938\u001b[39m         output = cast(\n\u001b[32m   1939\u001b[39m             \u001b[33m\"\u001b[39m\u001b[33mOutput\u001b[39m\u001b[33m\"\u001b[39m,\n\u001b[32m-> \u001b[39m\u001b[32m1940\u001b[39m             context.run(\n\u001b[32m   1941\u001b[39m                 call_func_with_variable_args,  \u001b[38;5;66;03m# type: ignore[arg-type]\u001b[39;00m\n\u001b[32m   1942\u001b[39m                 func,\n\u001b[32m   1943\u001b[39m                 input_,\n\u001b[32m   1944\u001b[39m                 config,\n\u001b[32m   1945\u001b[39m                 run_manager,\n\u001b[32m   1946\u001b[39m                 **kwargs,\n\u001b[32m   1947\u001b[39m             ),\n\u001b[32m   1948\u001b[39m         )\n\u001b[32m   1949\u001b[39m \u001b[38;5;28;01mexcept\u001b[39;00m \u001b[38;5;167;01mBaseException\u001b[39;00m \u001b[38;5;28;01mas\u001b[39;00m e:\n\u001b[32m   1950\u001b[39m     run_manager.on_chain_error(e)\n",
      "\u001b[36mFile \u001b[39m\u001b[32mc:\\Users\\patil\\anaconda3\\envs\\genai\\Lib\\site-packages\\langchain_core\\runnables\\config.py:428\u001b[39m, in \u001b[36mcall_func_with_variable_args\u001b[39m\u001b[34m(func, input, config, run_manager, **kwargs)\u001b[39m\n\u001b[32m    426\u001b[39m \u001b[38;5;28;01mif\u001b[39;00m run_manager \u001b[38;5;129;01mis\u001b[39;00m \u001b[38;5;129;01mnot\u001b[39;00m \u001b[38;5;28;01mNone\u001b[39;00m \u001b[38;5;129;01mand\u001b[39;00m accepts_run_manager(func):\n\u001b[32m    427\u001b[39m     kwargs[\u001b[33m\"\u001b[39m\u001b[33mrun_manager\u001b[39m\u001b[33m\"\u001b[39m] = run_manager\n\u001b[32m--> \u001b[39m\u001b[32m428\u001b[39m \u001b[38;5;28;01mreturn\u001b[39;00m func(\u001b[38;5;28minput\u001b[39m, **kwargs)\n",
      "\u001b[36mFile \u001b[39m\u001b[32mc:\\Users\\patil\\anaconda3\\envs\\genai\\Lib\\site-packages\\langchain_core\\runnables\\base.py:4630\u001b[39m, in \u001b[36mRunnableLambda._invoke\u001b[39m\u001b[34m(self, input_, run_manager, config, **kwargs)\u001b[39m\n\u001b[32m   4628\u001b[39m                 output = chunk\n\u001b[32m   4629\u001b[39m \u001b[38;5;28;01melse\u001b[39;00m:\n\u001b[32m-> \u001b[39m\u001b[32m4630\u001b[39m     output = call_func_with_variable_args(\n\u001b[32m   4631\u001b[39m         \u001b[38;5;28mself\u001b[39m.func, input_, config, run_manager, **kwargs\n\u001b[32m   4632\u001b[39m     )\n\u001b[32m   4633\u001b[39m \u001b[38;5;66;03m# If the output is a Runnable, invoke it\u001b[39;00m\n\u001b[32m   4634\u001b[39m \u001b[38;5;28;01mif\u001b[39;00m \u001b[38;5;28misinstance\u001b[39m(output, Runnable):\n",
      "\u001b[36mFile \u001b[39m\u001b[32mc:\\Users\\patil\\anaconda3\\envs\\genai\\Lib\\site-packages\\langchain_core\\runnables\\config.py:428\u001b[39m, in \u001b[36mcall_func_with_variable_args\u001b[39m\u001b[34m(func, input, config, run_manager, **kwargs)\u001b[39m\n\u001b[32m    426\u001b[39m \u001b[38;5;28;01mif\u001b[39;00m run_manager \u001b[38;5;129;01mis\u001b[39;00m \u001b[38;5;129;01mnot\u001b[39;00m \u001b[38;5;28;01mNone\u001b[39;00m \u001b[38;5;129;01mand\u001b[39;00m accepts_run_manager(func):\n\u001b[32m    427\u001b[39m     kwargs[\u001b[33m\"\u001b[39m\u001b[33mrun_manager\u001b[39m\u001b[33m\"\u001b[39m] = run_manager\n\u001b[32m--> \u001b[39m\u001b[32m428\u001b[39m \u001b[38;5;28;01mreturn\u001b[39;00m func(\u001b[38;5;28minput\u001b[39m, **kwargs)\n",
      "\u001b[36mFile \u001b[39m\u001b[32mc:\\Users\\patil\\anaconda3\\envs\\genai\\Lib\\json\\__init__.py:346\u001b[39m, in \u001b[36mloads\u001b[39m\u001b[34m(s, cls, object_hook, parse_float, parse_int, parse_constant, object_pairs_hook, **kw)\u001b[39m\n\u001b[32m    341\u001b[39m     s = s.decode(detect_encoding(s), \u001b[33m'\u001b[39m\u001b[33msurrogatepass\u001b[39m\u001b[33m'\u001b[39m)\n\u001b[32m    343\u001b[39m \u001b[38;5;28;01mif\u001b[39;00m (\u001b[38;5;28mcls\u001b[39m \u001b[38;5;129;01mis\u001b[39;00m \u001b[38;5;28;01mNone\u001b[39;00m \u001b[38;5;129;01mand\u001b[39;00m object_hook \u001b[38;5;129;01mis\u001b[39;00m \u001b[38;5;28;01mNone\u001b[39;00m \u001b[38;5;129;01mand\u001b[39;00m\n\u001b[32m    344\u001b[39m         parse_int \u001b[38;5;129;01mis\u001b[39;00m \u001b[38;5;28;01mNone\u001b[39;00m \u001b[38;5;129;01mand\u001b[39;00m parse_float \u001b[38;5;129;01mis\u001b[39;00m \u001b[38;5;28;01mNone\u001b[39;00m \u001b[38;5;129;01mand\u001b[39;00m\n\u001b[32m    345\u001b[39m         parse_constant \u001b[38;5;129;01mis\u001b[39;00m \u001b[38;5;28;01mNone\u001b[39;00m \u001b[38;5;129;01mand\u001b[39;00m object_pairs_hook \u001b[38;5;129;01mis\u001b[39;00m \u001b[38;5;28;01mNone\u001b[39;00m \u001b[38;5;129;01mand\u001b[39;00m \u001b[38;5;129;01mnot\u001b[39;00m kw):\n\u001b[32m--> \u001b[39m\u001b[32m346\u001b[39m     \u001b[38;5;28;01mreturn\u001b[39;00m _default_decoder.decode(s)\n\u001b[32m    347\u001b[39m \u001b[38;5;28;01mif\u001b[39;00m \u001b[38;5;28mcls\u001b[39m \u001b[38;5;129;01mis\u001b[39;00m \u001b[38;5;28;01mNone\u001b[39;00m:\n\u001b[32m    348\u001b[39m     \u001b[38;5;28mcls\u001b[39m = JSONDecoder\n",
      "\u001b[36mFile \u001b[39m\u001b[32mc:\\Users\\patil\\anaconda3\\envs\\genai\\Lib\\json\\decoder.py:341\u001b[39m, in \u001b[36mJSONDecoder.decode\u001b[39m\u001b[34m(self, s, _w)\u001b[39m\n\u001b[32m    339\u001b[39m end = _w(s, end).end()\n\u001b[32m    340\u001b[39m \u001b[38;5;28;01mif\u001b[39;00m end != \u001b[38;5;28mlen\u001b[39m(s):\n\u001b[32m--> \u001b[39m\u001b[32m341\u001b[39m     \u001b[38;5;28;01mraise\u001b[39;00m JSONDecodeError(\u001b[33m\"\u001b[39m\u001b[33mExtra data\u001b[39m\u001b[33m\"\u001b[39m, s, end)\n\u001b[32m    342\u001b[39m \u001b[38;5;28;01mreturn\u001b[39;00m obj\n",
      "\u001b[31mJSONDecodeError\u001b[39m: Extra data: line 9 column 1 (char 125)"
     ]
    }
   ],
   "source": [
    "simple_chain.invoke(challenge)"
   ]
  },
  {
   "cell_type": "code",
   "execution_count": 117,
   "id": "6814143b-4a35-4d29-bd32-ba461274bcbf",
   "metadata": {
    "height": 47
   },
   "outputs": [],
   "source": [
    "model = ChatOpenAI(temperature=0)\n",
    "chain = model | StrOutputParser() | json.loads"
   ]
  },
  {
   "cell_type": "code",
   "execution_count": 118,
   "id": "f55f04cf-0217-4106-b41f-0e0661d12c27",
   "metadata": {
    "height": 30
   },
   "outputs": [
    {
     "data": {
      "text/plain": [
       "{'poem1': {'title': 'The Rose',\n",
       "  'author': 'Emily Dickinson',\n",
       "  'firstLine': 'A rose by any other name would smell as sweet'},\n",
       " 'poem2': {'title': 'The Road Not Taken',\n",
       "  'author': 'Robert Frost',\n",
       "  'firstLine': 'Two roads diverged in a yellow wood'},\n",
       " 'poem3': {'title': 'Hope is the Thing with Feathers',\n",
       "  'author': 'Emily Dickinson',\n",
       "  'firstLine': 'Hope is the thing with feathers that perches in the soul'}}"
      ]
     },
     "execution_count": 118,
     "metadata": {},
     "output_type": "execute_result"
    }
   ],
   "source": [
    "chain.invoke(challenge)"
   ]
  },
  {
   "cell_type": "code",
   "execution_count": 119,
   "id": "b5d3f035-b18d-4cba-854d-a43ef8554e48",
   "metadata": {
    "height": 30
   },
   "outputs": [],
   "source": [
    "final_chain = simple_chain.with_fallbacks([chain])"
   ]
  },
  {
   "cell_type": "code",
   "execution_count": 120,
   "id": "9a09fe6a-548c-412d-9468-9efe2b49f7c9",
   "metadata": {
    "height": 30
   },
   "outputs": [
    {
     "data": {
      "text/plain": [
       "{'poem1': {'title': 'The Rose',\n",
       "  'author': 'Emily Dickinson',\n",
       "  'firstLine': 'A rose by any other name would smell as sweet'},\n",
       " 'poem2': {'title': 'The Road Not Taken',\n",
       "  'author': 'Robert Frost',\n",
       "  'firstLine': 'Two roads diverged in a yellow wood'},\n",
       " 'poem3': {'title': 'Hope is the Thing with Feathers',\n",
       "  'author': 'Emily Dickinson',\n",
       "  'firstLine': 'Hope is the thing with feathers that perches in the soul'}}"
      ]
     },
     "execution_count": 120,
     "metadata": {},
     "output_type": "execute_result"
    }
   ],
   "source": [
    "final_chain.invoke(challenge)"
   ]
  },
  {
   "cell_type": "markdown",
   "id": "3fcfdda0-3db2-4073-a647-f2d62c460349",
   "metadata": {},
   "source": [
    "## Interface"
   ]
  },
  {
   "cell_type": "code",
   "execution_count": 121,
   "id": "33b3b27f-b5a0-4db5-a1b0-20754437a47e",
   "metadata": {
    "height": 132
   },
   "outputs": [],
   "source": [
    "prompt = ChatPromptTemplate.from_template(\n",
    "    \"Tell me a business idea about {topic}\"\n",
    ")\n",
    "model = ChatOpenAI()\n",
    "output_parser = StrOutputParser()\n",
    "\n",
    "chain = prompt | model | output_parser"
   ]
  },
  {
   "cell_type": "code",
   "execution_count": 122,
   "id": "48c8cabf-ea55-4448-b070-3ec22942c559",
   "metadata": {
    "height": 30
   },
   "outputs": [
    {
     "data": {
      "text/plain": [
       "'One possible business idea related to bears could be a \"Bear Watching Tours\" company. This business would offer guided tours to locations where customers can observe bears in their natural habitat. This could be in a national park, wildlife reserve, or even a bear sanctuary.\\n\\nThe tours could be tailored to different levels of interest and comfort, from beginner tours where customers observe bears from a safe distance, to more adventurous tours that involve hiking or camping to get up close and personal with these magnificent creatures.\\n\\nAdditionally, the company could offer educational components to teach customers about bear behavior, conservation efforts, and the importance of protecting bear habitats. They could also partner with local wildlife experts or researchers to provide in-depth knowledge and insights.\\n\\nOverall, this business idea would cater to nature enthusiasts, wildlife lovers, and tourists looking for unique and memorable experiences, while also promoting awareness and conservation of bears.'"
      ]
     },
     "execution_count": 122,
     "metadata": {},
     "output_type": "execute_result"
    }
   ],
   "source": [
    "chain.invoke({\"topic\": \"bears\"})"
   ]
  },
  {
   "cell_type": "code",
   "execution_count": 123,
   "id": "cc58bdb4-a896-46ba-90c4-1b333245229a",
   "metadata": {
    "height": 45
   },
   "outputs": [
    {
     "data": {
      "text/plain": [
       "['One unique business idea related to bears could be starting a bear watching or photography tour company. This business could cater to nature enthusiasts and photography lovers who are interested in observing and capturing these majestic creatures in their natural habitat. Customers could join guided tours led by experienced naturalists and photographers to get up close and personal with bears in the wild, while also learning about their behaviors and conservation efforts. The tours could be offered in locations known for high bear populations, such as national parks or wildlife reserves. This business idea could provide not only a thrilling and educational experience for customers, but also contribute to wildlife conservation efforts by raising awareness and funds for bear protection.',\n",
       " 'One business idea related to frogs could be a boutique store that specializes in unique and high-quality frog-themed products. This could include items such as handmade frog jewelry, home decor, clothing, and accessories. The store could also offer educational resources about frogs, such as books, documentaries, and informational guides.\\n\\nAdditionally, the business could host special events and workshops focused on frog conservation, habitat preservation, and responsible pet ownership for those interested in keeping frogs as pets. The store could partner with local conservation organizations to raise awareness and funds for efforts to protect frog populations and their habitats.\\n\\nOverall, this business idea would cater to frog enthusiasts, animal lovers, and anyone looking for fun and environmentally-conscious products. It could also help raise awareness about the importance of protecting frogs and their ecosystems.']"
      ]
     },
     "execution_count": 123,
     "metadata": {},
     "output_type": "execute_result"
    }
   ],
   "source": [
    "chain.batch([{\"topic\": \"bears\"}, {\"topic\": \"frogs\"}])"
   ]
  },
  {
   "cell_type": "code",
   "execution_count": 124,
   "id": "8a069d61-0a67-4368-b7c4-367262267bb8",
   "metadata": {
    "height": 47
   },
   "outputs": [
    {
     "name": "stdout",
     "output_type": "stream",
     "text": [
      "\n",
      "One\n",
      " possible\n",
      " business\n",
      " idea\n",
      " related\n",
      " to\n",
      " bears\n",
      " could\n",
      " be\n",
      " a\n",
      " bear\n",
      "-themed\n",
      " cafe\n",
      " or\n",
      " restaurant\n",
      ".\n",
      " This\n",
      " unique\n",
      " dining\n",
      " establishment\n",
      " could\n",
      " feature\n",
      " bear\n",
      "-themed\n",
      " decor\n",
      ",\n",
      " menu\n",
      " items\n",
      " with\n",
      " names\n",
      " inspired\n",
      " by\n",
      " bears\n",
      " (\n",
      "such\n",
      " as\n",
      " the\n",
      " \"\n",
      "Gr\n",
      "izzly\n",
      " Burger\n",
      "\"\n",
      " or\n",
      " \"\n",
      "P\n",
      "olar\n",
      " Pl\n",
      "unge\n",
      " Smooth\n",
      "ie\n",
      "\"),\n",
      " and\n",
      " possibly\n",
      " even\n",
      " live\n",
      " bear\n",
      "-themed\n",
      " entertainment\n",
      " (\n",
      "such\n",
      " as\n",
      " bear\n",
      " mascot\n",
      " appearances\n",
      " or\n",
      " bear\n",
      " educational\n",
      " presentations\n",
      ").\n",
      " This\n",
      " concept\n",
      " could\n",
      " appeal\n",
      " to\n",
      " animal\n",
      " lovers\n",
      ",\n",
      " families\n",
      ",\n",
      " and\n",
      " tourists\n",
      " looking\n",
      " for\n",
      " a\n",
      " fun\n",
      " and\n",
      " memorable\n",
      " dining\n",
      " experience\n",
      ".\n",
      " Additionally\n",
      ",\n",
      " a\n",
      " portion\n",
      " of\n",
      " the\n",
      " profits\n",
      " could\n",
      " be\n",
      " donated\n",
      " to\n",
      " bear\n",
      " conservation\n",
      " efforts\n",
      " or\n",
      " wildlife\n",
      " rehabilitation\n",
      " centers\n",
      ".\n",
      "\n"
     ]
    }
   ],
   "source": [
    "for t in chain.stream({\"topic\": \"bears\"}):\n",
    "    print(t)"
   ]
  },
  {
   "cell_type": "code",
   "execution_count": 125,
   "id": "2315b43f-c7e1-4f7b-9595-4cabdc019dea",
   "metadata": {
    "height": 47
   },
   "outputs": [
    {
     "data": {
      "text/plain": [
       "'One business idea related to bears could be a bear sanctuary or wildlife rehabilitation center. This type of business would provide a safe and natural environment for rescued bears, either from the wild or from captivity, to live and thrive. The sanctuary could offer educational tours and programs for the public to learn about bears and their importance in the ecosystem, as well as opportunities for visitors to support conservation efforts through donations or volunteer work. Additionally, the sanctuary could partner with local schools and organizations to promote bear conservation and habitat preservation.'"
      ]
     },
     "execution_count": 125,
     "metadata": {},
     "output_type": "execute_result"
    }
   ],
   "source": [
    "response = await chain.ainvoke({\"topic\": \"bears\"})\n",
    "response"
   ]
  },
  {
   "cell_type": "code",
   "execution_count": 126,
   "id": "f3082379-f75e-4a74-bee5-c18ddc5ac4dc",
   "metadata": {
    "height": 30
   },
   "outputs": [
    {
     "data": {
      "text/plain": [
       "['One business idea could be a bear tracking and education company. This company would offer guided tours in bear habitats, teaching clients about bears, their behavior, and how to safely observe them in the wild. The tours could also incorporate lessons on bear conservation and protection efforts. Additionally, the company could partner with wildlife researchers to collect data on bear populations and behaviors, providing valuable insights for conservation efforts. This business could cater to nature enthusiasts, wildlife photographers, and anyone interested in learning more about these majestic animals.',\n",
       " 'One potential business idea involving frogs is creating a frog breeding and selling company. This business could specialize in breeding various species of frogs for pet owners, collectors, and educational institutions. The company could offer a wide range of frog species, including popular choices like tree frogs, dart frogs, and bullfrogs.\\n\\nAdditionally, the business could also offer accessories and supplies for frog care, such as tanks, food, and habitat decorations. They could also provide educational resources and workshops for new frog owners to learn how to properly care for their new pets.\\n\\nThis business idea could cater to both individuals looking to purchase frogs as pets and organizations seeking to add frogs to their educational programs or exhibits. By providing high-quality frogs and excellent customer service, this business could establish itself as a trusted source for frog enthusiasts.']"
      ]
     },
     "execution_count": 126,
     "metadata": {},
     "output_type": "execute_result"
    }
   ],
   "source": [
    "response = await chain.abatch([{\"topic\": \"bears\"}, {\"topic\": \"frogs\"}])\n",
    "response"
   ]
  },
  {
   "cell_type": "code",
   "execution_count": null,
   "id": "adccca48-787e-4219-af82-f18e6408182b",
   "metadata": {
    "height": 30
   },
   "outputs": [
    {
     "ename": "TypeError",
     "evalue": "object async_generator can't be used in 'await' expression",
     "output_type": "error",
     "traceback": [
      "\u001b[31m---------------------------------------------------------------------------\u001b[39m",
      "\u001b[31mTypeError\u001b[39m                                 Traceback (most recent call last)",
      "\u001b[36mCell\u001b[39m\u001b[36m \u001b[39m\u001b[32mIn[130]\u001b[39m\u001b[32m, line 1\u001b[39m\n\u001b[32m----> \u001b[39m\u001b[32m1\u001b[39m \u001b[38;5;28;01mfor\u001b[39;00m t \u001b[38;5;129;01min\u001b[39;00m \u001b[38;5;28;01mawait\u001b[39;00m chain.astream({\u001b[33m\"\u001b[39m\u001b[33mtopic\u001b[39m\u001b[33m\"\u001b[39m: \u001b[33m\"\u001b[39m\u001b[33mbears\u001b[39m\u001b[33m\"\u001b[39m}):\n\u001b[32m      2\u001b[39m     \u001b[38;5;28mprint\u001b[39m(t)\n",
      "\u001b[31mTypeError\u001b[39m: object async_generator can't be used in 'await' expression"
     ]
    }
   ],
   "source": [
    "for t in chain.astream({\"topic\": \"bears\"}):\n",
    "    print(t)"
   ]
  },
  {
   "cell_type": "code",
   "execution_count": null,
   "id": "5c816827-e5b7-480a-826b-0ca715faca3c",
   "metadata": {
    "height": 30
   },
   "outputs": [],
   "source": []
  },
  {
   "cell_type": "code",
   "execution_count": null,
   "id": "15e6d608-c205-4141-bab8-0304dd910978",
   "metadata": {
    "height": 30
   },
   "outputs": [],
   "source": []
  },
  {
   "cell_type": "code",
   "execution_count": null,
   "id": "abfc490d-090d-4e1c-b8ee-bf40ec4da4c3",
   "metadata": {
    "height": 30
   },
   "outputs": [],
   "source": []
  },
  {
   "cell_type": "code",
   "execution_count": null,
   "id": "5fe48ff0-fd84-4c9e-8069-02117d57f7f0",
   "metadata": {
    "height": 30
   },
   "outputs": [],
   "source": []
  }
 ],
 "metadata": {
  "kernelspec": {
   "display_name": "genai",
   "language": "python",
   "name": "python3"
  },
  "language_info": {
   "codemirror_mode": {
    "name": "ipython",
    "version": 3
   },
   "file_extension": ".py",
   "mimetype": "text/x-python",
   "name": "python",
   "nbconvert_exporter": "python",
   "pygments_lexer": "ipython3",
   "version": "3.12.9"
  }
 },
 "nbformat": 4,
 "nbformat_minor": 5
}
